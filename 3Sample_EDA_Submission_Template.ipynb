{
  "nbformat": 4,
  "nbformat_minor": 0,
  "metadata": {
    "colab": {
      "private_outputs": true,
      "provenance": [],
      "collapsed_sections": [
        "vncDsAP0Gaoa",
        "FJNUwmbgGyua",
        "w6K7xa23Elo4",
        "yQaldy8SH6Dl",
        "PH-0ReGfmX4f",
        "mDgbUHAGgjLW",
        "O_i_v8NEhb9l",
        "HhfV-JJviCcP",
        "Y3lxredqlCYt",
        "3RnN4peoiCZX",
        "x71ZqKXriCWQ",
        "7hBIi_osiCS2",
        "JlHwYmJAmNHm",
        "35m5QtbWiB9F",
        "PoPl-ycgm1ru",
        "H0kj-8xxnORC",
        "nA9Y7ga8ng1Z",
        "PBTbrJXOngz2",
        "u3PMJOP6ngxN",
        "dauF4eBmngu3",
        "bKJF3rekwFvQ",
        "MSa1f5Uengrz",
        "GF8Ens_Soomf",
        "0wOQAZs5pc--",
        "K5QZ13OEpz2H",
        "lQ7QKXXCp7Bj",
        "448CDAPjqfQr",
        "KSlN3yHqYklG",
        "t6dVpIINYklI",
        "ijmpgYnKYklI",
        "-JiQyfWJYklI",
        "EM7whBJCYoAo",
        "fge-S5ZAYoAp",
        "85gYPyotYoAp",
        "RoGjAbkUYoAp",
        "4Of9eVA-YrdM",
        "iky9q4vBYrdO",
        "F6T5p64dYrdO",
        "y-Ehk30pYrdP",
        "bamQiAODYuh1",
        "QHF8YVU7Yuh3",
        "GwzvFGzlYuh3",
        "qYpmQ266Yuh3",
        "OH-pJp9IphqM",
        "bbFf2-_FphqN",
        "_ouA3fa0phqN",
        "Seke61FWphqN",
        "PIIx-8_IphqN",
        "t27r6nlMphqO",
        "r2jJGEOYphqO",
        "b0JNsNcRphqO",
        "BZR9WyysphqO",
        "jj7wYXLtphqO",
        "eZrbJ2SmphqO",
        "rFu4xreNphqO",
        "YJ55k-q6phqO",
        "gCFgpxoyphqP",
        "OVtJsKN_phqQ",
        "lssrdh5qphqQ",
        "U2RJ9gkRphqQ",
        "1M8mcRywphqQ",
        "tgIPom80phqQ",
        "JMzcOPDDphqR",
        "x-EpHcCOp1ci",
        "X_VqEhTip1ck",
        "8zGJKyg5p1ck",
        "PVzmfK_Ep1ck",
        "n3dbpmDWp1ck",
        "ylSl6qgtp1ck",
        "ZWILFDl5p1ck",
        "M7G43BXep1ck",
        "Ag9LCva-p1cl",
        "E6MkPsBcp1cl",
        "2cELzS2fp1cl",
        "3MPXvC8up1cl",
        "NC_X3p0fY2L0",
        "UV0SzAkaZNRQ",
        "YPEH6qLeZNRQ",
        "q29F0dvdveiT",
        "EXh0U9oCveiU",
        "22aHeOlLveiV",
        "JcMwzZxoAimU",
        "8G2x9gOozGDZ",
        "gCX9965dhzqZ",
        "gIfDvo9L0UH2"
      ]
    },
    "kernelspec": {
      "name": "python3",
      "display_name": "Python 3"
    },
    "language_info": {
      "name": "python"
    }
  },
  "cells": [
    {
      "cell_type": "markdown",
      "source": [
        "# **Project Name**    -\n",
        "\n"
      ],
      "metadata": {
        "id": "vncDsAP0Gaoa"
      }
    },
    {
      "cell_type": "markdown",
      "source": [
        "##### **Project Type**    - EDA/Regression/Classification/Unsupervised\n",
        "##### **Contribution**    - Individual\n",
        "\n"
      ],
      "metadata": {
        "id": "beRrZCGUAJYm"
      }
    },
    {
      "cell_type": "markdown",
      "source": [
        "# **Project Summary -**"
      ],
      "metadata": {
        "id": "FJNUwmbgGyua"
      }
    },
    {
      "cell_type": "markdown",
      "source": [
        "Paisabazaar helps customers access banking and credit products by evaluating their creditworthiness. A key part of this evaluation is the credit score, which indicates how likely a person is to repay loans. Accurately classifying credit scores allows Paisabazaar to improve credit risk assessment, reduce loan defaults, and provide personalized financial advice, leading to better decision-making and product recommendations.\n",
        "\n"
      ],
      "metadata": {
        "id": "F6v_1wHtG2nS"
      }
    },
    {
      "cell_type": "markdown",
      "source": [
        "# **GitHub Link -**"
      ],
      "metadata": {
        "id": "w6K7xa23Elo4"
      }
    },
    {
      "cell_type": "markdown",
      "source": [
        "Provide your GitHub Link here."
      ],
      "metadata": {
        "id": "h1o69JH3Eqqn"
      }
    },
    {
      "cell_type": "markdown",
      "source": [
        "# **Problem Statement**\n"
      ],
      "metadata": {
        "id": "yQaldy8SH6Dl"
      }
    },
    {
      "cell_type": "markdown",
      "source": [
        "To accurately classify the credit score of customers (as Good, Standard, or Poor) based on their demographic, financial, and behavioral data.\n"
      ],
      "metadata": {
        "id": "DpeJGUA3kjGy"
      }
    },
    {
      "cell_type": "markdown",
      "source": [
        "#### **Define Your Business Objective?**"
      ],
      "metadata": {
        "id": "PH-0ReGfmX4f"
      }
    },
    {
      "cell_type": "markdown",
      "source": [
        "Answer Here.\n",
        "\n",
        "\n",
        "The objective of conducting EDA (Exploratory Data Analysis) is to understand patterns and trends in customer data that influence their credit scores (Good, Standard, Poor).\n",
        "\n",
        "* Identify Key Demographic Factors – Such as Age, Occupation, and Income levels that are associated with good or poor credit scores.\n",
        "\n",
        "* Analyze Financial Behavior – Including outstanding debt, number of loans, and credit utilization ratio to determine repayment capacity.\n",
        "\n",
        "* Understand Behavioral Patterns – Such as delayed payments and minimum amount payments, which strongly affect credit risk.\n",
        "\n",
        "\n"
      ],
      "metadata": {
        "id": "PhDvGCAqmjP1"
      }
    },
    {
      "cell_type": "markdown",
      "source": [
        "# **General Guidelines** : -  "
      ],
      "metadata": {
        "id": "mDgbUHAGgjLW"
      }
    },
    {
      "cell_type": "markdown",
      "source": [
        "1.   Well-structured, formatted, and commented code is required.\n",
        "2.   Exception Handling, Production Grade Code & Deployment Ready Code will be a plus. Those students will be awarded some additional credits.\n",
        "     \n",
        "     The additional credits will have advantages over other students during Star Student selection.\n",
        "       \n",
        "             [ Note: - Deployment Ready Code is defined as, the whole .ipynb notebook should be executable in one go\n",
        "                       without a single error logged. ]\n",
        "\n",
        "3.   Each and every logic should have proper comments.\n",
        "4. You may add as many number of charts you want. Make Sure for each and every chart the following format should be answered.\n",
        "        \n",
        "\n",
        "```\n",
        "# Chart visualization code\n",
        "```\n",
        "            \n",
        "\n",
        "*   Why did you pick the specific chart?\n",
        "*   What is/are the insight(s) found from the chart?\n",
        "* Will the gained insights help creating a positive business impact?\n",
        "Are there any insights that lead to negative growth? Justify with specific reason.\n",
        "\n",
        "5. You have to create at least 20 logical & meaningful charts having important insights.\n",
        "\n",
        "\n",
        "[ Hints : - Do the Vizualization in  a structured way while following \"UBM\" Rule.\n",
        "\n",
        "U - Univariate Analysis,\n",
        "\n",
        "B - Bivariate Analysis (Numerical - Categorical, Numerical - Numerical, Categorical - Categorical)\n",
        "\n",
        "M - Multivariate Analysis\n",
        " ]\n",
        "\n",
        "\n",
        "\n"
      ],
      "metadata": {
        "id": "ZrxVaUj-hHfC"
      }
    },
    {
      "cell_type": "markdown",
      "source": [
        "# ***Let's Begin !***"
      ],
      "metadata": {
        "id": "O_i_v8NEhb9l"
      }
    },
    {
      "cell_type": "markdown",
      "source": [
        "## ***1. Know Your Data***"
      ],
      "metadata": {
        "id": "HhfV-JJviCcP"
      }
    },
    {
      "cell_type": "markdown",
      "source": [
        "### Import Libraries"
      ],
      "metadata": {
        "id": "Y3lxredqlCYt"
      }
    },
    {
      "cell_type": "code",
      "source": [
        "# Import Libraries\n",
        "import numpy as np\n",
        "import pandas as pd\n",
        "import matplotlib.pyplot as plt\n",
        "import seaborn as sns"
      ],
      "metadata": {
        "id": "M8Vqi-pPk-HR"
      },
      "execution_count": null,
      "outputs": []
    },
    {
      "cell_type": "markdown",
      "source": [
        "### Dataset Loading"
      ],
      "metadata": {
        "id": "3RnN4peoiCZX"
      }
    },
    {
      "cell_type": "code",
      "source": [
        "# Load Dataset\n",
        "dataset = pd.read_csv(\"/content/policy bazar.csv\")\n",
        "dataset"
      ],
      "metadata": {
        "id": "4CkvbW_SlZ_R"
      },
      "execution_count": null,
      "outputs": []
    },
    {
      "cell_type": "markdown",
      "source": [
        "### Dataset First View"
      ],
      "metadata": {
        "id": "x71ZqKXriCWQ"
      }
    },
    {
      "cell_type": "code",
      "source": [
        "# Dataset First Look\n",
        "dataset.head()"
      ],
      "metadata": {
        "id": "LWNFOSvLl09H"
      },
      "execution_count": null,
      "outputs": []
    },
    {
      "cell_type": "markdown",
      "source": [
        "### Dataset Rows & Columns count"
      ],
      "metadata": {
        "id": "7hBIi_osiCS2"
      }
    },
    {
      "cell_type": "code",
      "source": [
        "# Dataset Rows & Columns count\n",
        "dataset.shape"
      ],
      "metadata": {
        "id": "Kllu7SJgmLij"
      },
      "execution_count": null,
      "outputs": []
    },
    {
      "cell_type": "markdown",
      "source": [
        "### Dataset Information"
      ],
      "metadata": {
        "id": "JlHwYmJAmNHm"
      }
    },
    {
      "cell_type": "code",
      "source": [
        "# Dataset Info\n",
        "dataset.info()"
      ],
      "metadata": {
        "id": "e9hRXRi6meOf"
      },
      "execution_count": null,
      "outputs": []
    },
    {
      "cell_type": "markdown",
      "source": [
        "#### Duplicate Values"
      ],
      "metadata": {
        "id": "35m5QtbWiB9F"
      }
    },
    {
      "cell_type": "code",
      "source": [
        "# Dataset Duplicate Value Count\n",
        "len(dataset[dataset.duplicated])"
      ],
      "metadata": {
        "id": "1sLdpKYkmox0"
      },
      "execution_count": null,
      "outputs": []
    },
    {
      "cell_type": "markdown",
      "source": [
        "#### Missing Values/Null Values"
      ],
      "metadata": {
        "id": "PoPl-ycgm1ru"
      }
    },
    {
      "cell_type": "code",
      "source": [
        "# Missing Values/Null Values Count\n",
        "dataset.isnull().sum()"
      ],
      "metadata": {
        "id": "GgHWkxvamxVg"
      },
      "execution_count": null,
      "outputs": []
    },
    {
      "cell_type": "code",
      "source": [
        "# Visualizing the missing values\n",
        "plt.figure(figsize=(10,6))\n",
        "sns.heatmap(dataset.isnull(),cbar=False)\n",
        "plt.title(\"Missing value\",fontdict={\"fontsize\":20,\"fontweight\": 'bold'})\n",
        "plt.xlabel(\"values\")\n",
        "plt.ylabel(\"column name\")\n",
        "plt.show()"
      ],
      "metadata": {
        "id": "3q5wnI3om9sJ"
      },
      "execution_count": null,
      "outputs": []
    },
    {
      "cell_type": "markdown",
      "source": [
        "### What did you know about your dataset?\n"
      ],
      "metadata": {
        "id": "H0kj-8xxnORC"
      }
    },
    {
      "cell_type": "markdown",
      "source": [
        "Answer Here: I got 0 missing value in this dataset."
      ],
      "metadata": {
        "id": "gfoNAAC-nUe_"
      }
    },
    {
      "cell_type": "markdown",
      "source": [
        "## ***2. Understanding Your Variables***"
      ],
      "metadata": {
        "id": "nA9Y7ga8ng1Z"
      }
    },
    {
      "cell_type": "code",
      "source": [
        "# Dataset Columns\n",
        "dataset.columns"
      ],
      "metadata": {
        "id": "j7xfkqrt5Ag5"
      },
      "execution_count": null,
      "outputs": []
    },
    {
      "cell_type": "code",
      "source": [
        "# Dataset Describe\n",
        "dataset.describe()"
      ],
      "metadata": {
        "id": "DnOaZdaE5Q5t"
      },
      "execution_count": null,
      "outputs": []
    },
    {
      "cell_type": "markdown",
      "source": [
        "### Check Unique Values for each variable."
      ],
      "metadata": {
        "id": "u3PMJOP6ngxN"
      }
    },
    {
      "cell_type": "code",
      "source": [
        "# Check Unique Values for each variable.\n",
        "for i in dataset.columns.to_list():\n",
        "  print(\"no of unique value in \",i,'is',dataset[i].nunique())"
      ],
      "metadata": {
        "id": "zms12Yq5n-jE"
      },
      "execution_count": null,
      "outputs": []
    },
    {
      "cell_type": "markdown",
      "source": [
        "## 3. ***Data Wrangling***"
      ],
      "metadata": {
        "id": "dauF4eBmngu3"
      }
    },
    {
      "cell_type": "markdown",
      "source": [
        "### Data Wrangling Code"
      ],
      "metadata": {
        "id": "bKJF3rekwFvQ"
      }
    },
    {
      "cell_type": "code",
      "source": [
        "# Write your code to make your dataset analysis ready.\n",
        "count_credit_score = dataset.loc[:, 'Credit_Score'].value_counts() #count the credit score\n",
        "count_credit_score"
      ],
      "metadata": {
        "id": "wk-9a2fpoLcV"
      },
      "execution_count": null,
      "outputs": []
    },
    {
      "cell_type": "code",
      "source": [
        "unique_occupation = dataset.loc[:, 'Occupation'].unique()        #unique occuption\n",
        "unique_occupation"
      ],
      "metadata": {
        "id": "209h9BS5vo_h"
      },
      "execution_count": null,
      "outputs": []
    },
    {
      "cell_type": "code",
      "source": [
        "count_credit_Mix = dataset['Credit_Mix'].value_counts()   #count credit Mix\n",
        "count_credit_Mix"
      ],
      "metadata": {
        "id": "bqNzWOTK0dgO"
      },
      "execution_count": null,
      "outputs": []
    },
    {
      "cell_type": "code",
      "source": [
        "unique_payment_of_min_account = dataset.loc[:,'Payment_of_Min_Amount'].unique()     #no of unique payments\n",
        "unique_payment_of_min_account"
      ],
      "metadata": {
        "id": "R8p66y3l0kGo"
      },
      "execution_count": null,
      "outputs": []
    },
    {
      "cell_type": "code",
      "source": [
        "unique_payment_behaviour = dataset.loc[:, 'Payment_Behaviour'].value_counts()  # No of unique payment behaviour\n",
        "unique_payment_behaviour"
      ],
      "metadata": {
        "id": "-LL4JNeR0r7c"
      },
      "execution_count": null,
      "outputs": []
    },
    {
      "cell_type": "code",
      "source": [
        "age_count = dataset['Age'].value_counts().sort_index(ascending=True)\n",
        "age_count"
      ],
      "metadata": {
        "id": "ZlRLkCCGqFUO"
      },
      "execution_count": null,
      "outputs": []
    },
    {
      "cell_type": "markdown",
      "source": [
        "### What all manipulations have you done and insights you found?"
      ],
      "metadata": {
        "id": "MSa1f5Uengrz"
      }
    },
    {
      "cell_type": "markdown",
      "source": [
        "Answer Here:\n",
        "* we have three type of credit score (Good, Standard, poor).\n",
        "* number of Occupation is 15.\n",
        "* number of payment behaviour is 6.\n",
        "\n"
      ],
      "metadata": {
        "id": "LbyXE7I1olp8"
      }
    },
    {
      "cell_type": "markdown",
      "source": [
        "## ***4. Data Vizualization, Storytelling & Experimenting with charts : Understand the relationships between variables***"
      ],
      "metadata": {
        "id": "GF8Ens_Soomf"
      }
    },
    {
      "cell_type": "markdown",
      "source": [
        "#### Chart - 1: Age Vs credit score"
      ],
      "metadata": {
        "id": "0wOQAZs5pc--"
      }
    },
    {
      "cell_type": "code",
      "source": [
        "# Chart - 1 visualization code\n",
        "sns.histplot(data=dataset, x=\"Age\", hue=\"Credit_Score\", multiple=\"stack\", palette=\"Set2\")\n",
        "plt.title(\"Age Distribution by Credit Score\")\n",
        "plt.show()"
      ],
      "metadata": {
        "id": "7v_ESjsspbW7"
      },
      "execution_count": null,
      "outputs": []
    },
    {
      "cell_type": "markdown",
      "source": [
        "##### 1. Why did you pick the specific chart?"
      ],
      "metadata": {
        "id": "K5QZ13OEpz2H"
      }
    },
    {
      "cell_type": "markdown",
      "source": [
        "Answer Here.It shows the distribution of Age across different Credit Score categories (Good, Standard, Poor).\n",
        "\n",
        "Helps compare how each credit score group is spread over different age ranges.\n",
        "\n",
        "Stacking makes it easier to see the total count of customers per age group as well as the relative proportion of each credit score.\n",
        "\n"
      ],
      "metadata": {
        "id": "XESiWehPqBRc"
      }
    },
    {
      "cell_type": "markdown",
      "source": [
        "##### 2. What is/are the insight(s) found from the chart?"
      ],
      "metadata": {
        "id": "lQ7QKXXCp7Bj"
      }
    },
    {
      "cell_type": "markdown",
      "source": [
        "Answer Here: Most customers fall between the age group of ~20 to 45 years.\n",
        "\n",
        "Standard credit score dominates across almost all age groups.\n",
        "\n",
        "Poor credit score is more common among younger customers (around 20–30 years).\n",
        "\n",
        "Good credit score is relatively higher in customers above 30 years compared to younger ones."
      ],
      "metadata": {
        "id": "C_j1G7yiqdRP"
      }
    },
    {
      "cell_type": "markdown",
      "source": [
        "##### 3. Will the gained insights help creating a positive business impact?\n",
        "Are there any insights that lead to negative growth? Justify with specific reason."
      ],
      "metadata": {
        "id": "448CDAPjqfQr"
      }
    },
    {
      "cell_type": "markdown",
      "source": [
        "Answer Here:\n",
        "* positive business impact:\n",
        "\n",
        "Helps financial institutions target specific age groups for credit improvement programs.\n",
        "\n",
        "Younger customers (20–30) with poor scores can be educated or offered low-risk products to build credit history.\n",
        "\n",
        "Customers with good scores can be offered premium products/loans, increasing revenue.\n",
        "\n",
        "* lead Negative growth:\n",
        "\n",
        "The higher proportion of poor scores among younger customers indicates higher credit risk for this group.\n",
        "\n",
        "If not managed, this can increase loan defaults, leading to negative growth.\n",
        "\n",
        "Businesses might lose potential future customers if young people fail to improve their credit early."
      ],
      "metadata": {
        "id": "3cspy4FjqxJW"
      }
    },
    {
      "cell_type": "markdown",
      "source": [
        "#### Chart - 2:: occupation vs credit score"
      ],
      "metadata": {
        "id": "KSlN3yHqYklG"
      }
    },
    {
      "cell_type": "code",
      "source": [
        "# Chart - 2 visualization code\n",
        "plt.figure(figsize=(10,6))\n",
        "sns.countplot(data=dataset, x='Occupation',hue='Credit_Score',palette='viridis')\n",
        "plt.xticks(rotation=45)\n",
        "plt.title('Occuption Vs Credit Score')\n",
        "plt.show()"
      ],
      "metadata": {
        "id": "R4YgtaqtYklH"
      },
      "execution_count": null,
      "outputs": []
    },
    {
      "cell_type": "markdown",
      "source": [
        "##### 1. Why did you pick the specific chart?"
      ],
      "metadata": {
        "id": "t6dVpIINYklI"
      }
    },
    {
      "cell_type": "markdown",
      "source": [
        "Answer Here:It clearly compares Credit Score (Good, Standard, Poor) across different occupations.\n",
        "\n",
        "It helps identify which professions have higher or lower creditworthiness.\n",
        "\n",
        "Bar charts are ideal for comparing categorical variables (Occupation) with frequency counts.\n",
        "\n"
      ],
      "metadata": {
        "id": "5aaW0BYyYklI"
      }
    },
    {
      "cell_type": "markdown",
      "source": [
        "##### 2. What is/are the insight(s) found from the chart?"
      ],
      "metadata": {
        "id": "ijmpgYnKYklI"
      }
    },
    {
      "cell_type": "markdown",
      "source": [
        "Answer Here:Standard credit score is the most common across all occupations.\n",
        "\n",
        "Professions like Lawyer, Media Manager, and Developer have slightly higher counts of Standard scores.\n",
        "\n",
        "Good credit scores are less frequent across all occupations, meaning very few professionals maintain excellent credit.\n",
        "\n",
        "Poor credit scores are relatively higher in Entrepreneurs, Engineers, and Teachers compared to some other professions."
      ],
      "metadata": {
        "id": "PSx9atu2YklI"
      }
    },
    {
      "cell_type": "markdown",
      "source": [
        "##### 3. Will the gained insights help creating a positive business impact?\n",
        "Are there any insights that lead to negative growth? Justify with specific reason."
      ],
      "metadata": {
        "id": "-JiQyfWJYklI"
      }
    },
    {
      "cell_type": "markdown",
      "source": [
        "Answer Here:Positive Business Impact:\n",
        "\n",
        "Lenders can design credit improvement programs for professions where poor credit scores are higher.\n",
        "\n",
        "Occupations with higher good scores can be offered premium loans or credit cards.\n",
        "\n",
        "Helps in risk-based pricing by tailoring interest rates for specific occupational segments.\n",
        "\n",
        "* Lead to Negative:\n",
        "\n",
        "\n",
        "yes,Occupations like Entrepreneurs and Teachers having relatively more poor credit scores may indicate higher lending risk.\n",
        "\n",
        "If businesses lend without considering this insight, it could increase default rates and financial losses."
      ],
      "metadata": {
        "id": "BcBbebzrYklV"
      }
    },
    {
      "cell_type": "markdown",
      "source": [
        "#### Chart - 3: Annual Income vs credit score"
      ],
      "metadata": {
        "id": "EM7whBJCYoAo"
      }
    },
    {
      "cell_type": "code",
      "source": [
        "# Chart - 3 visualization code\n",
        "sns.boxplot(data=dataset,x='Credit_Score',y='Annual_Income',color='Blue')\n",
        "plt.title('Annual Income with credit score',)\n",
        "plt.show()"
      ],
      "metadata": {
        "id": "t6GMdE67YoAp"
      },
      "execution_count": null,
      "outputs": []
    },
    {
      "cell_type": "markdown",
      "source": [
        "##### 1. Why did you pick the specific chart?"
      ],
      "metadata": {
        "id": "fge-S5ZAYoAp"
      }
    },
    {
      "cell_type": "markdown",
      "source": [
        "Answer Here.A boxplot was selected because:\n",
        "\n",
        "It effectively shows distribution, median, and outliers of Annual Income for each Credit Score category (Good, Standard, Poor).\n",
        "\n",
        "Helps identify income ranges and detect income disparity among credit score groups.\n",
        "\n",
        "Boxplots are best for comparing continuous variables (Annual Income) across categorical groups (Credit Score)."
      ],
      "metadata": {
        "id": "5dBItgRVYoAp"
      }
    },
    {
      "cell_type": "markdown",
      "source": [
        "##### 2. What is/are the insight(s) found from the chart?"
      ],
      "metadata": {
        "id": "85gYPyotYoAp"
      }
    },
    {
      "cell_type": "markdown",
      "source": [
        "Answer Here:Customers with Good credit scores tend to have higher median annual incomes compared to Standard and Poor groups.\n",
        "\n",
        "Poor credit score group has the lowest median income and many outliers with very high income.\n",
        "\n",
        "Income range is widest in the Good score group, indicating people with higher incomes are more likely to have better credit scores."
      ],
      "metadata": {
        "id": "4jstXR6OYoAp"
      }
    },
    {
      "cell_type": "markdown",
      "source": [
        "##### 3. Will the gained insights help creating a positive business impact?\n",
        "Are there any insights that lead to negative growth? Justify with specific reason."
      ],
      "metadata": {
        "id": "RoGjAbkUYoAp"
      }
    },
    {
      "cell_type": "markdown",
      "source": [
        "Answer Here:Positive Business Impact:\n",
        "\n",
        "Lenders can design credit products suitable for each income-credit score segment.\n",
        "\n",
        "Customers with higher incomes but poor scores can be targeted for financial literacy programs to improve their scores.\n",
        "\n",
        "Helps in credit risk assessment by considering income as a factor before lending.\n",
        "\n",
        "*  lead to negative growth\n",
        "\n",
        "Presence of high-income individuals with poor credit scores indicates poor financial management despite earnings.\n",
        "\n",
        "Lending to such individuals without proper risk evaluation may lead to defaults, resulting in negative growth.\n",
        "\n",
        "\n",
        "\n",
        "\n"
      ],
      "metadata": {
        "id": "zfJ8IqMcYoAp"
      }
    },
    {
      "cell_type": "markdown",
      "source": [
        "#### Chart - 4: Outstanding debt vs Credit score"
      ],
      "metadata": {
        "id": "4Of9eVA-YrdM"
      }
    },
    {
      "cell_type": "code",
      "source": [
        "# Chart - 4 visualization code:Boxplot\n",
        "sns.boxplot(data=dataset,x='Credit_Score',y='Outstanding_Debt',color='Orange')\n",
        "plt.title('Outstanding Debt Vs Credit Score')\n",
        "plt.show()"
      ],
      "metadata": {
        "id": "irlUoxc8YrdO"
      },
      "execution_count": null,
      "outputs": []
    },
    {
      "cell_type": "markdown",
      "source": [
        "##### 1. Why did you pick the specific chart?"
      ],
      "metadata": {
        "id": "iky9q4vBYrdO"
      }
    },
    {
      "cell_type": "markdown",
      "source": [
        "Answer Here.\n",
        " A boxplot was chosen because:\n",
        "\n",
        "It helps compare the distribution, median, and outliers of Outstanding Debt across Credit Score categories.\n",
        "\n",
        "Shows how debt levels differ between Good, Standard, and Poor credit scores.\n",
        "\n",
        "Boxplots are best for analyzing continuous financial variables grouped by categories."
      ],
      "metadata": {
        "id": "aJRCwT6DYrdO"
      }
    },
    {
      "cell_type": "markdown",
      "source": [
        "##### 2. What is/are the insight(s) found from the chart?"
      ],
      "metadata": {
        "id": "F6T5p64dYrdO"
      }
    },
    {
      "cell_type": "markdown",
      "source": [
        "Answer Here:\n",
        "Customers with Poor credit scores have the highest median outstanding debt, which indicates a strong link between high debt and poor credit scores.\n",
        "\n",
        "Good credit score customers generally have lower debt levels, but a few outliers have very high debt despite a good score.\n",
        "\n",
        "The Standard score group lies in between but closer to the Poor group in terms of debt distribution."
      ],
      "metadata": {
        "id": "Xx8WAJvtYrdO"
      }
    },
    {
      "cell_type": "markdown",
      "source": [
        "##### 3. Will the gained insights help creating a positive business impact?\n",
        "Are there any insights that lead to negative growth? Justify with specific reason."
      ],
      "metadata": {
        "id": "y-Ehk30pYrdP"
      }
    },
    {
      "cell_type": "markdown",
      "source": [
        "Answer Here:\n",
        "* Positive Business Impact:\n",
        "\n",
        "Helps lenders identify high-risk customers (those with high outstanding debt and poor scores) and limit lending or increase monitoring.\n",
        "\n",
        "Financial institutions can offer debt management programs to customers with high debts to prevent defaults.\n",
        "\n",
        "Enables better risk-based interest rate decisions based on outstanding debt.\n",
        "\n",
        "*  lead to negative growth\n",
        "\n",
        "A large group of customers with high debt and poor scores represents a potential default risk.\n",
        "\n",
        "If lenders provide loans without considering this insight, it can increase NPAs (Non-Performing Assets), leading to financial losses.\n",
        "\n",
        "Outliers with good scores but very high debt might pose a hidden risk if their repayment ability suddenly drops.\n",
        "\n"
      ],
      "metadata": {
        "id": "jLNxxz7MYrdP"
      }
    },
    {
      "cell_type": "markdown",
      "source": [
        "#### Chart - 5:Correlation Heatmap of financial Heatmap"
      ],
      "metadata": {
        "id": "bamQiAODYuh1"
      }
    },
    {
      "cell_type": "code",
      "source": [
        "# Chart - 5 visualization code: Heatmap\n",
        "sns.heatmap(dataset.corr(numeric_only=True),annot=False,cmap='coolwarm')\n",
        "plt.title('Correlation Heatmap of Financial Heatmap')\n",
        "plt.show()"
      ],
      "metadata": {
        "id": "TIJwrbroYuh3"
      },
      "execution_count": null,
      "outputs": []
    },
    {
      "cell_type": "markdown",
      "source": [
        "##### 1. Why did you pick the specific chart?"
      ],
      "metadata": {
        "id": "QHF8YVU7Yuh3"
      }
    },
    {
      "cell_type": "markdown",
      "source": [
        "Answer Here: Correlation heatmap was chosen because:\n",
        "\n",
        "It shows the strength and direction of relationships between different financial variables.\n",
        "\n",
        "It helps identify which variables are strongly correlated, which is useful for feature selection in credit score prediction.\n",
        "\n",
        "The color gradient makes it easy to visualize positive and negative correlations."
      ],
      "metadata": {
        "id": "dcxuIMRPYuh3"
      }
    },
    {
      "cell_type": "markdown",
      "source": [
        "##### 2. What is/are the insight(s) found from the chart?"
      ],
      "metadata": {
        "id": "GwzvFGzlYuh3"
      }
    },
    {
      "cell_type": "markdown",
      "source": [
        "Answer Here\n",
        "\n",
        "Annual Income is strongly correlated with Monthly Inhand Salary.\n",
        "\n",
        "Outstanding Debt is positively correlated with Credit Utilization Ratio and Total EMI per month, meaning higher debts lead to higher utilization and EMIs.\n",
        "\n",
        "Num of Loans and Interest Rate also show moderate positive correlation.\n",
        "\n",
        "Monthly Balance has a negative correlation with Outstanding Debt, which is logical (more debt → less remaining balance).\n",
        "\n"
      ],
      "metadata": {
        "id": "uyqkiB8YYuh3"
      }
    },
    {
      "cell_type": "markdown",
      "source": [
        "##### 3. Will the gained insights help creating a positive business impact?\n",
        "Are there any insights that lead to negative growth? Justify with specific reason."
      ],
      "metadata": {
        "id": "qYpmQ266Yuh3"
      }
    },
    {
      "cell_type": "markdown",
      "source": [
        "Answer Here\n",
        "* Positive Business Impact:\n",
        "Strong correlation between Annual Income and Monthly Inhand Salary → helps predict repayment capacity.\n",
        "\n",
        "Credit Utilization Ratio and Outstanding Debt insights → useful for building better credit scoring models.\n",
        "\n",
        "Identifying customers with good income and low utilization → helps target low-risk borrowers.\n",
        "\n",
        "* Negative Growth Risks:\n",
        "High Outstanding Debt with high Interest Rate → may increase defaults and reduce customer loyalty.\n",
        "\n",
        "Positive link between Delay from Due Date and Number of Delayed Payments → shows habitual late payers, increasing NPAs.\n",
        "\n",
        "Negative correlation between Monthly Balance and Credit Utilization Ratio → high credit users with low balance are risky."
      ],
      "metadata": {
        "id": "_WtzZ_hCYuh4"
      }
    },
    {
      "cell_type": "markdown",
      "source": [
        "#### Chart - 6: Payment behaviour Vs credit score"
      ],
      "metadata": {
        "id": "OH-pJp9IphqM"
      }
    },
    {
      "cell_type": "code",
      "source": [
        "# Chart - 6 visualization code: counterplot\n",
        "plt.figure(figsize=(10,6))\n",
        "sns.countplot(data=dataset,x='Payment_Behaviour',hue='Credit_Score',palette= 'plasma')\n",
        "plt.title('Payment Behaviour vs Credit score')\n",
        "plt.xticks(rotation=45)\n",
        "plt.show()"
      ],
      "metadata": {
        "id": "kuRf4wtuphqN"
      },
      "execution_count": null,
      "outputs": []
    },
    {
      "cell_type": "markdown",
      "source": [
        "##### 1. Why did you pick the specific chart?"
      ],
      "metadata": {
        "id": "bbFf2-_FphqN"
      }
    },
    {
      "cell_type": "markdown",
      "source": [
        "Answer Here. This grouped bar chart is chosen because:\n",
        "\n",
        "It compares Payment Behaviour categories across different Credit Scores (Good, Standard, Poor).\n",
        "\n",
        "It visually shows the distribution of customers’ payment patterns and how they are related to creditworthiness.\n",
        "\n",
        "It is easy to compare multiple groups (Good, Standard, Poor) within each payment behaviour category."
      ],
      "metadata": {
        "id": "loh7H2nzphqN"
      }
    },
    {
      "cell_type": "markdown",
      "source": [
        "##### 2. What is/are the insight(s) found from the chart?"
      ],
      "metadata": {
        "id": "_ouA3fa0phqN"
      }
    },
    {
      "cell_type": "markdown",
      "source": [
        "Answer Here: Customers with Low_spent_Small_value_payments have the highest count across all credit score categories, especially Standard and Poor.\n",
        "\n",
        "Good credit score customers are less frequent in almost every payment behaviour compared to Standard and Poor.\n",
        "\n",
        "High_spent_Large_value_payments and Low_spent_Large_value_payments categories have fewer Poor credit score customers, implying higher spending on large payments might be linked with better financial discipline.\n",
        "\n",
        "Standard credit score customers dominate all categories, followed by Poor, then Good."
      ],
      "metadata": {
        "id": "VECbqPI7phqN"
      }
    },
    {
      "cell_type": "markdown",
      "source": [
        "##### 3. Will the gained insights help creating a positive business impact?\n",
        "Are there any insights that lead to negative growth? Justify with specific reason."
      ],
      "metadata": {
        "id": "Seke61FWphqN"
      }
    },
    {
      "cell_type": "markdown",
      "source": [
        "Answer Here:  \n",
        "* Positive Business Impact:\n",
        "\n",
        "Banks or financial companies can identify high-risk customers (more in Low_spent_Small_value_payments) and design interventions like financial literacy programs or tailored repayment plans.\n",
        "\n",
        " * Negative Impact:\n",
        "\n",
        "The large proportion of customers in Low_spent_Small_value_payments with Poor credit scores shows higher risk of non-payment or low profitability."
      ],
      "metadata": {
        "id": "DW4_bGpfphqN"
      }
    },
    {
      "cell_type": "markdown",
      "source": [
        "#### Chart - 7: Delayed payments by credit Score"
      ],
      "metadata": {
        "id": "PIIx-8_IphqN"
      }
    },
    {
      "cell_type": "code",
      "source": [
        "# Chart - 7 visualization code: boxplot\n",
        "sns.boxplot(data=dataset,x='Credit_Score', y='Num_of_Delayed_Payment',color='Red')\n",
        "plt.title('Delayed payments vs credit_score')\n",
        "plt.show()"
      ],
      "metadata": {
        "id": "lqAIGUfyphqO"
      },
      "execution_count": null,
      "outputs": []
    },
    {
      "cell_type": "markdown",
      "source": [
        "##### 1. Why did you pick the specific chart?"
      ],
      "metadata": {
        "id": "t27r6nlMphqO"
      }
    },
    {
      "cell_type": "markdown",
      "source": [
        "Answer Here.\n",
        "A boxplot is chosen because it effectively shows the distribution, median, and spread of delayed payments for each credit score category.\n",
        "\n",
        "It also highlights outliers (extreme delayed payments) which are important in credit risk analysis.\n",
        "\n",
        "It helps compare the central tendency (median) and variability of delayed payments across Good, Standard, and Poor credit scores.\n"
      ],
      "metadata": {
        "id": "iv6ro40sphqO"
      }
    },
    {
      "cell_type": "markdown",
      "source": [
        "##### 2. What is/are the insight(s) found from the chart?"
      ],
      "metadata": {
        "id": "r2jJGEOYphqO"
      }
    },
    {
      "cell_type": "markdown",
      "source": [
        "Answer Here\n",
        "Good credit score customers have the lowest median number of delayed payments and a smaller spread.\n",
        "\n",
        "Standard credit score customers have a higher median and wider variability of delayed payments.\n",
        "\n",
        "Poor credit score customers show the highest median delayed payments, with a larger spread.\n",
        "\n",
        "A few outliers exist in Good credit score customers, meaning some still delay payments significantly despite having a good score."
      ],
      "metadata": {
        "id": "Po6ZPi4hphqO"
      }
    },
    {
      "cell_type": "markdown",
      "source": [
        "##### 3. Will the gained insights help creating a positive business impact?\n",
        "Are there any insights that lead to negative growth? Justify with specific reason."
      ],
      "metadata": {
        "id": "b0JNsNcRphqO"
      }
    },
    {
      "cell_type": "markdown",
      "source": [
        "Answer Here:\n",
        "* Positive Impact:\n",
        "\n",
        "Helps in risk-based segmentation – customers with higher delayed payments can be targeted for stricter credit limits or repayment reminders.\n",
        "* Negative Impact:\n",
        "\n",
        "If a company extends more credit to Standard or Poor credit score customers without monitoring delayed payments, it can lead to increased defaults and financial losses."
      ],
      "metadata": {
        "id": "xvSq8iUTphqO"
      }
    },
    {
      "cell_type": "markdown",
      "source": [
        "#### Chart - 8:Credit Inquries by credit score"
      ],
      "metadata": {
        "id": "BZR9WyysphqO"
      }
    },
    {
      "cell_type": "code",
      "source": [
        "# Chart - 8 visualization code: Boxplot\n",
        "sns.boxplot(data=dataset,x=\"Credit_Score\",y=\"Num_Credit_Inquiries\",color='Green')\n",
        "plt.title('Credit Inquries By Credit Score')\n",
        "plt.show()"
      ],
      "metadata": {
        "id": "TdPTWpAVphqO"
      },
      "execution_count": null,
      "outputs": []
    },
    {
      "cell_type": "markdown",
      "source": [
        "##### 1. Why did you pick the specific chart?"
      ],
      "metadata": {
        "id": "jj7wYXLtphqO"
      }
    },
    {
      "cell_type": "markdown",
      "source": [
        "Answer Here: A Boxplot show the num of inquries compare with credit score categories.\n",
        "Boxplot help identify data distribution and outliners which important to understanding the risky behaviour."
      ],
      "metadata": {
        "id": "Ob8u6rCTphqO"
      }
    },
    {
      "cell_type": "markdown",
      "source": [
        "##### 2. What is/are the insight(s) found from the chart?"
      ],
      "metadata": {
        "id": "eZrbJ2SmphqO"
      }
    },
    {
      "cell_type": "markdown",
      "source": [
        "Answer Here:\n",
        "poor credit score: we can see that num of inquries median lies between the 7 to 8\n",
        "good credit score: in this boxplot median lies between  the 2 to 3\n",
        "\n",
        "from above statment we can gernalies that if num of inquries lead to the poor credit score because the finacial instability."
      ],
      "metadata": {
        "id": "mZtgC_hjphqO"
      }
    },
    {
      "cell_type": "markdown",
      "source": [
        "##### 3. Will the gained insights help creating a positive business impact?\n",
        "Are there any insights that lead to negative growth? Justify with specific reason."
      ],
      "metadata": {
        "id": "rFu4xreNphqO"
      }
    },
    {
      "cell_type": "markdown",
      "source": [
        "Answer Here\n",
        "* Positive Impact:\n",
        "\n",
        "Lenders can use credit inquiry count as a key risk factor while approving loans.\n",
        "\n",
        "Customers with frequent inquiries can be flagged as high-risk and given stricter lending criteria.\n",
        "\n",
        "* Negative Growth Insight:\n",
        "\n",
        "If a company aggressively approves loans for customers with too many credit inquiries, loan default risk will increase, leading to bad debt growth."
      ],
      "metadata": {
        "id": "ey_0qi68phqO"
      }
    },
    {
      "cell_type": "markdown",
      "source": [
        "\n",
        "\n",
        "\n",
        "\n",
        "#### Chart - 9 - Pair Plot"
      ],
      "metadata": {
        "id": "q29F0dvdveiT"
      }
    },
    {
      "cell_type": "code",
      "source": [
        "# Pair Plot visualization code\n",
        "sns.pairplot(dataset[['Annual_Income','Monthly_Inhand_Salary','Outstanding_Debt']])\n",
        "plt.show()"
      ],
      "metadata": {
        "id": "o58-TEIhveiU"
      },
      "execution_count": null,
      "outputs": []
    },
    {
      "cell_type": "markdown",
      "source": [
        "##### 1. Why did you pick the specific chart?"
      ],
      "metadata": {
        "id": "EXh0U9oCveiU"
      }
    },
    {
      "cell_type": "markdown",
      "source": [
        "Answer Here.\n",
        "A pairplot visualizes all pairwise relationships between continuous variables and also shows the marginal distributions of each variable via histograms.\n",
        "\n",
        "quickly spotting correlations, clusters, outliers, and distribution shapes in a single glance\n"
      ],
      "metadata": {
        "id": "eMmPjTByveiU"
      }
    },
    {
      "cell_type": "markdown",
      "source": [
        "##### 2. What is/are the insight(s) found from the chart?"
      ],
      "metadata": {
        "id": "22aHeOlLveiV"
      }
    },
    {
      "cell_type": "markdown",
      "source": [
        "Answer Here\n",
        "Annual Income and Monthly Inhand Salary distributions appear right‑skewed, with many lower values and a long tail toward higher incomes.\n",
        "\n",
        "Outstanding Debt also shows skewness: most users carry low-to-moderate debt, with fewer having very high balances."
      ],
      "metadata": {
        "id": "uPQ8RGwHveiV"
      }
    },
    {
      "cell_type": "markdown",
      "source": [
        "## **5. Solution to Business Objective**"
      ],
      "metadata": {
        "id": "JcMwzZxoAimU"
      }
    },
    {
      "cell_type": "markdown",
      "source": [
        "#### What do you suggest the client to achieve Business Objective ?\n",
        "Explain Briefly."
      ],
      "metadata": {
        "id": "8G2x9gOozGDZ"
      }
    },
    {
      "cell_type": "markdown",
      "source": [
        "Answer Here.\n",
        "* Young customers (20–30): Offer low-risk credit products and financial literacy programs to build credit history.\n",
        "\n",
        "* High-risk occupations (Entrepreneurs, Teachers): Apply stricter risk checks and provide credit improvement support.\n",
        "\n",
        "* High-income poor scorers: Evaluate debt-to-income ratio and offer debt management plans.\n",
        "\n",
        "* High outstanding debt customers: Limit lending and provide repayment assistance to reduce NPAs.\n",
        "\n",
        "* Frequent credit inquiries: Use inquiry count as a key risk factor to avoid over-leveraged borrowers.\n",
        "\n",
        "* Good scorers with low utilization: Target with premium products to increase revenue.\n",
        "\n",
        "* Habitual late payers: Set stricter limits, repayment reminders, and auto-payment options to reduce defaults."
      ],
      "metadata": {
        "id": "pASKb0qOza21"
      }
    },
    {
      "cell_type": "markdown",
      "source": [
        "# **Conclusion**"
      ],
      "metadata": {
        "id": "gCX9965dhzqZ"
      }
    },
    {
      "cell_type": "markdown",
      "source": [
        "Write the conclusion here."
      ],
      "metadata": {
        "id": "Fjb1IsQkh3yE"
      }
    },
    {
      "cell_type": "markdown",
      "source": [
        "### ***Hurrah! You have successfully completed your EDA Capstone Project !!!***"
      ],
      "metadata": {
        "id": "gIfDvo9L0UH2"
      }
    }
  ]
}